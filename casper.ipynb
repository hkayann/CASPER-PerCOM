{
 "cells": [
  {
   "attachments": {},
   "cell_type": "markdown",
   "metadata": {},
   "source": [
    "## CASPER: Context-Aware Anomaly Detection System for Industrial Robotic Arms\n",
    "\n",
    "This notebook contains the work of the demo paper presented in **The 21st International Conference on Pervasive Computing and Communications (PerCom 2023)**.\n",
    "\n",
    "The GitHub repo of the work:  \n",
    "\n",
    "Initial steps:\n",
    "\n",
    "1. Download the dataset from IEEEDataPort: https://ieee-dataport.org/documents/casper-context-aware-anomaly-detection-system-industrial-robotic-arms\n",
    "2. Extract the `casper.zip` file.\n",
    "\n",
    "The dataset contains four files:\n",
    "    * A .csv file that consists of accelerometer, gyroscope, and magnetometer data of an arm that accomplishes a repetitive task, captured via Nicla Sense ME.\n",
    "    * Two .csv files (one per industrial arm) that consist of built-in arm parameters such as joint current, and velocity values etc.\n",
    "    * A .pcap file that contains the TCP/IP traffic between the arms and the controller PC.\n",
    "\n",
    "For this work, you will only need `right_arm.csv` and `nicla.csv`.\n",
    "\n",
    "The whole test is around 24 hours.\n",
    "\n",
    "We modify the joint velocity of the **right arm** after 14.4 hours (corresponding to 60%).\n",
    "\n",
    "You should replace the `file paths` with your own paths.\n",
    "\n",
    "The cells starts with `%%time` are expected to take longer running times depending on your setup. As the training, takes long time, we provide the saved model for convenience.\n",
    "\n",
    "We run this experiment on a data science workstation with **NVIDIA RTX A6000**.\n",
    "\n",
    "Please install the other required libraries given in below cell.\n",
    "\n",
    "Key versions to match:\n",
    "* Python version: 3.9.12\n",
    "* TensorFlow version: 2.9.1"
   ]
  },
  {
   "cell_type": "code",
   "execution_count": 22,
   "metadata": {},
   "outputs": [],
   "source": [
    "# Import required libraries.\n",
    "import time\n",
    "from pprint import pprint\n",
    "\n",
    "import matplotlib.pyplot as plt\n",
    "import numpy as np\n",
    "import pandas as pd\n",
    "import pickle\n",
    "import tensorflow as tf\n",
    "import seaborn as sns\n",
    "\n",
    "from IPython.utils import io\n",
    "from sklearn.preprocessing import MinMaxScaler\n",
    "from sklearn.metrics import confusion_matrix"
   ]
  },
  {
   "attachments": {},
   "cell_type": "markdown",
   "metadata": {},
   "source": [
    "Make sure you have access to gpu."
   ]
  },
  {
   "cell_type": "code",
   "execution_count": 2,
   "metadata": {},
   "outputs": [
    {
     "name": "stdout",
     "output_type": "stream",
     "text": [
      "TensorFlow has access to the following devices:\n",
      "[PhysicalDevice(name='/physical_device:CPU:0', device_type='CPU'), PhysicalDevice(name='/physical_device:GPU:0', device_type='GPU')]\n",
      "TensorFlow version: 2.9.1\n",
      "/bin/bash: /home/hakan/miniconda3/envs/casper/lib/libtinfo.so.6: no version information available (required by /bin/bash)\n",
      "Failed to initialize NVML: Driver/library version mismatch\n",
      "/bin/bash: /home/hakan/miniconda3/envs/casper/lib/libtinfo.so.6: no version information available (required by /bin/bash)\n",
      "Failed to initialize NVML: Driver/library version mismatch\n",
      "Your runtime has 134.8 gigabytes of available RAM\n",
      "\n",
      "You are using a high-RAM runtime!\n"
     ]
    }
   ],
   "source": [
    "# Check for TensorFlow GPU access.\n",
    "from psutil import virtual_memory\n",
    "\n",
    "print(\n",
    "    f\"TensorFlow has access to the following devices:\\n{tf.config.list_physical_devices()}\"\n",
    ")\n",
    "\n",
    "# See TensorFlow version.\n",
    "print(f\"TensorFlow version: {tf.__version__}\")\n",
    "\n",
    "# If you are on ARM-based MacOS this will return \"command not found\".\n",
    "# In that case, you need to consider the output of above statements.\n",
    "!nvidia-smi - L\n",
    "gpu_info = !nvidia-smi\n",
    "gpu_info = \"\\n\".join(gpu_info)\n",
    "if gpu_info.find(\"failed\") >= 0:\n",
    "    print(\"Not connected to a GPU\")\n",
    "else:\n",
    "    print(gpu_info)\n",
    "\n",
    "ram_gb = virtual_memory().total / 1e9\n",
    "print(\"Your runtime has {:.1f} gigabytes of available RAM\\n\".format(ram_gb))\n",
    "\n",
    "# This is useful on Google Colab to check if high-RAM is selected.\n",
    "if ram_gb < 20:\n",
    "    print(\"Not using a high-RAM runtime\")\n",
    "else:\n",
    "    print(\"You are using a high-RAM runtime!\")"
   ]
  },
  {
   "cell_type": "code",
   "execution_count": 3,
   "metadata": {},
   "outputs": [],
   "source": [
    "plt.rcParams[\"xtick.labelsize\"] = 12\n",
    "plt.rcParams[\"ytick.labelsize\"] = 12"
   ]
  },
  {
   "attachments": {},
   "cell_type": "markdown",
   "metadata": {},
   "source": [
    "## Dataset Matching\n",
    "\n",
    "We have two data sources that we need to match:\n",
    "1. Built-in parameters data that contain the anomaly labels as well.\n",
    "2. Nicla Sense ME data where we do the anomaly detection.\n",
    "\n",
    "We should correctly match the anomalous labels we got from the 1st data to 2nd.\n",
    "\n",
    "#### The reasons for the mismatch in data sources:\n",
    "1. Even thought we set both freqs to 20Hz with the given available libraries, we see that the freqs differ around **18Hz to 22Hz**.\n",
    "2. The Nicla stopped after the industrial robotic arm (estimatedly few minutes.)\n",
    "3. The Nicla started earlier than the industrial robotic arm.\n",
    "\n",
    "If the freq was exactly **20Hz**, we would had **1728000** data points.\n",
    "\n",
    "Now we match the data sources based on the **location of the first anomalous point**. "
   ]
  },
  {
   "cell_type": "code",
   "execution_count": 4,
   "metadata": {},
   "outputs": [
    {
     "name": "stdout",
     "output_type": "stream",
     "text": [
      "<class 'pandas.core.frame.DataFrame'>\n",
      "RangeIndex: 1751682 entries, 0 to 1751681\n",
      "Data columns (total 9 columns):\n",
      " #   Column  Dtype  \n",
      "---  ------  -----  \n",
      " 0   AccX    float64\n",
      " 1   AccY    float64\n",
      " 2   AccZ    float64\n",
      " 3   GyroX   float64\n",
      " 4   GyroY   float64\n",
      " 5   GyroZ   float64\n",
      " 6   MagX    float64\n",
      " 7   MagY    float64\n",
      " 8   MagZ    float64\n",
      "dtypes: float64(9)\n",
      "memory usage: 120.3 MB\n",
      "None\n"
     ]
    }
   ],
   "source": [
    "# If local the path:\n",
    "NICLA_PATH = \"../datasets/nicla.csv\"  # Change this accordingly.\n",
    "\n",
    "# We skip first 6 rows due to faulty format/data.\n",
    "nicla = pd.read_csv(\n",
    "    NICLA_PATH,\n",
    "    on_bad_lines=\"warn\",\n",
    "    skiprows=6,\n",
    "    names=[\"AccX\", \"AccY\", \"AccZ\", \"GyroX\", \"GyroY\", \"GyroZ\", \"MagX\", \"MagY\", \"MagZ\"],\n",
    ")\n",
    "\n",
    "# Check if there are any empty/Nan variables.\n",
    "if nicla.isnull().values.any():\n",
    "    raise ValueError(\"Nan variable is present.\")\n",
    "\n",
    "# Explore the dataframe.\n",
    "print(nicla.info())"
   ]
  },
  {
   "cell_type": "code",
   "execution_count": 5,
   "metadata": {},
   "outputs": [
    {
     "data": {
      "image/png": "[encoded data removed]",
      "text/plain": [
       "<Figure size 720x432 with 9 Axes>"
      ]
     },
     "metadata": {
      "needs_background": "light"
     },
     "output_type": "display_data"
    }
   ],
   "source": [
    "# Visualize the first 1000 point\n",
    "fig, ((ax1, ax2, ax3), (ax4, ax5, ax6), (ax7, ax8, ax9)) = plt.subplots(\n",
    "    3, 3, sharex=True, figsize=(10, 6), constrained_layout=True\n",
    ")\n",
    "\n",
    "START_INDEX = 0\n",
    "END_INDEX = 1000\n",
    "\n",
    "ax1.plot(nicla.index[START_INDEX:END_INDEX], nicla[\"AccX\"][START_INDEX:END_INDEX])\n",
    "ax1.set_ylabel(r\"AccX $(m/s^2)$\")\n",
    "\n",
    "ax2.plot(nicla.index[START_INDEX:END_INDEX], nicla[\"GyroX\"][START_INDEX:END_INDEX])\n",
    "ax2.set_ylabel(r\"GyroX $(dps)$\")\n",
    "\n",
    "ax3.plot(nicla.index[START_INDEX:END_INDEX], nicla[\"MagX\"][START_INDEX:END_INDEX])\n",
    "ax3.set_ylabel(r\"MagX (${\\mu}T$)\")\n",
    "\n",
    "ax4.plot(nicla.index[START_INDEX:END_INDEX], nicla[\"AccY\"][START_INDEX:END_INDEX])\n",
    "ax4.set_ylabel(r\"AccY $(m/s^2)$\")\n",
    "\n",
    "ax5.plot(nicla.index[START_INDEX:END_INDEX], nicla[\"GyroY\"][START_INDEX:END_INDEX])\n",
    "ax5.set_ylabel(r\"GyroY $(dps)$\")\n",
    "\n",
    "ax6.plot(nicla.index[START_INDEX:END_INDEX], nicla[\"MagY\"][START_INDEX:END_INDEX])\n",
    "ax6.set_ylabel(r\"MagY (${\\mu}T$)\")\n",
    "\n",
    "ax7.plot(nicla.index[START_INDEX:END_INDEX], nicla[\"AccZ\"][START_INDEX:END_INDEX])\n",
    "ax7.set_ylabel(r\"AccZ $(m/s^2)$\")\n",
    "\n",
    "ax8.plot(nicla.index[START_INDEX:END_INDEX], nicla[\"GyroZ\"][START_INDEX:END_INDEX])\n",
    "ax8.set_ylabel(r\"GyroZ $(dps)$\")\n",
    "\n",
    "ax9.plot(nicla.index[START_INDEX:END_INDEX], nicla[\"MagZ\"][START_INDEX:END_INDEX])\n",
    "ax9.set_ylabel(r\"MagZ (${\\mu}T$)\")\n",
    "\n",
    "fig.align_labels()\n",
    "plt.suptitle(\"Nicla Sense Data First 1000 points\", x=0.5, y=1.05, fontsize=20)\n",
    "plt.show()"
   ]
  },
  {
   "attachments": {},
   "cell_type": "markdown",
   "metadata": {},
   "source": [
    "We see that the Nicla is idle for some time. We now find the **exact starting point**."
   ]
  },
  {
   "cell_type": "code",
   "execution_count": 6,
   "metadata": {},
   "outputs": [
    {
     "data": {
      "text/plain": [
       "898"
      ]
     },
     "execution_count": 6,
     "metadata": {},
     "output_type": "execute_result"
    }
   ],
   "source": [
    "# We see that Gyro. noise occurs at range of 0 < x < 1, so we find the first point where x >= 1\n",
    "index = np.argmax(nicla[\"GyroX\"][:1000].diff().abs() >= 1)\n",
    "index"
   ]
  },
  {
   "attachments": {},
   "cell_type": "markdown",
   "metadata": {},
   "source": [
    "As the movement starts at (roughly) 898th data point we can **remove the first 897 data points.**"
   ]
  },
  {
   "cell_type": "code",
   "execution_count": 7,
   "metadata": {},
   "outputs": [],
   "source": [
    "# Drop the first 898 points\n",
    "nicla_dropped = nicla.iloc[897:]\n",
    "# Reset the index.\n",
    "nicla_dropped.index = pd.RangeIndex(len(nicla_dropped.index))"
   ]
  },
  {
   "attachments": {},
   "cell_type": "markdown",
   "metadata": {},
   "source": [
    "Now, we load the **built-in arm dataset.**"
   ]
  },
  {
   "cell_type": "code",
   "execution_count": 9,
   "metadata": {},
   "outputs": [
    {
     "name": "stdout",
     "output_type": "stream",
     "text": [
      "CPU times: user 15.9 s, sys: 920 ms, total: 16.9 s\n",
      "Wall time: 16.9 s\n"
     ]
    }
   ],
   "source": [
    "%%time\n",
    "# Generate df from dataset that contains labels/built-in parameters.\n",
    "# Path for local PC.\n",
    "RIGHT_ARM_CSV_PATH = \"../datasets/right_arm.csv\"\n",
    "\n",
    "right_arm = pd.read_csv(RIGHT_ARM_CSV_PATH, on_bad_lines=\"warn\")\n",
    "\n",
    "# Reset Timestamp to 0.\n",
    "right_arm[\"Timestamp\"] = right_arm[\"Timestamp\"] - right_arm[\"Timestamp\"][0]"
   ]
  },
  {
   "cell_type": "code",
   "execution_count": 10,
   "metadata": {},
   "outputs": [
    {
     "name": "stdout",
     "output_type": "stream",
     "text": [
      "The length of the right arm data is 1762650\n",
      "The length of the nicla data is 1750785\n"
     ]
    }
   ],
   "source": [
    "# Get the length of nicla and the other one.\n",
    "len_nicla_dropped = len(nicla_dropped)\n",
    "len_right_arm = len(right_arm)\n",
    "\n",
    "print(f\"The length of the right arm data is {len_right_arm}\")\n",
    "print(f\"The length of the nicla data is {len_nicla_dropped}\")"
   ]
  },
  {
   "attachments": {},
   "cell_type": "markdown",
   "metadata": {},
   "source": [
    "As we see the lengths **do not match**. The **final point** of built-in dataset is an **anomaly**, that is how we can locate the **exact end of the 24 hour period.**\n",
    "\n",
    "Now, we find the final **1** which corresponds to an anomaly."
   ]
  },
  {
   "cell_type": "code",
   "execution_count": 11,
   "metadata": {},
   "outputs": [
    {
     "name": "stdout",
     "output_type": "stream",
     "text": [
      "The final 1 is located at: 1728006\n"
     ]
    }
   ],
   "source": [
    "# Find the final 1.\n",
    "df_labels = right_arm[\"Anomaly State\"]\n",
    "index_list = np.where(df_labels == 1)\n",
    "index_of_last_one = index_list[0][-1]\n",
    "print(f\"The final 1 is located at: {index_of_last_one}\")"
   ]
  },
  {
   "attachments": {},
   "cell_type": "markdown",
   "metadata": {},
   "source": [
    "Well, this makes sense, because the **24 hour data at 20Hz means 1728000 data points**. We only have **6 extra** data points in this case.\n",
    "\n",
    "We now **match the datasets**."
   ]
  },
  {
   "cell_type": "code",
   "execution_count": 12,
   "metadata": {},
   "outputs": [
    {
     "name": "stdout",
     "output_type": "stream",
     "text": [
      "The length of Nicla data is 1728006\n",
      "The length of arm data is 1728006\n"
     ]
    }
   ],
   "source": [
    "# Remove the rest of the datasets.\n",
    "# As both data nearly started at the same time, we can match from the beginning.\n",
    "right_arm = right_arm[0:1728006]\n",
    "nicla_dropped = nicla_dropped[0:1728006]\n",
    "n = len(nicla_dropped)\n",
    "n_arm = len(right_arm)\n",
    "print(f\"The length of Nicla data is {n}\")\n",
    "print(f\"The length of arm data is {n_arm}\")"
   ]
  },
  {
   "attachments": {},
   "cell_type": "markdown",
   "metadata": {},
   "source": [
    "## The Model Training\n",
    "\n",
    "Now that we match the datasets, we will move into ML part.\n",
    "\n",
    "The neural network architecture, that we use in this setup is shown below.\n",
    "\n",
    "![alt text](./figures/neuralNetworkArch.png \"Title\")\n",
    "\n"
   ]
  },
  {
   "attachments": {},
   "cell_type": "markdown",
   "metadata": {},
   "source": [
    "Due to different scales, we normalize the data and then split into training, validation, and test.\n",
    "\n",
    "Data are normalized with training parameters so the validation and test sets do not have access to future values."
   ]
  },
  {
   "cell_type": "code",
   "execution_count": 13,
   "metadata": {},
   "outputs": [],
   "source": [
    "def get_normalized(d_f, x_minimum, x_maximum, train_per, val_per):\n",
    "    \"\"\"\n",
    "    This function normalize the dataframe and splits into training, validation and test sets.\n",
    "\n",
    "    Args:\n",
    "        x_min (float): Min normalization parameter.\n",
    "        x_max (float): Max normalization parameter.\n",
    "        train_per (float): Train data ratio, starts from the beginning.\n",
    "        val_per (float): Validation data ratio, starts after training set.\n",
    "\n",
    "    Returns:\n",
    "        dataframe(s): Normalized train, validation, and test dataframes.\n",
    "    \"\"\"\n",
    "    df_len = len(d_f)\n",
    "    train_nicla_df = d_f[0 : int(df_len * train_per)]\n",
    "    val_nicla_df = d_f[int(df_len * train_per) : int(df_len * (val_per + train_per))]\n",
    "    test_nicla_df = d_f[int(df_len * (val_per + train_per)) :]\n",
    "    scaler = MinMaxScaler(feature_range=(x_minimum, x_maximum))\n",
    "    _ = scaler.fit(train_nicla_df)\n",
    "    train_normalized = pd.DataFrame(\n",
    "        scaler.transform(train_nicla_df), columns=train_nicla_df.columns\n",
    "    )\n",
    "    val_normalized = pd.DataFrame(\n",
    "        scaler.transform(val_nicla_df), columns=train_nicla_df.columns\n",
    "    )\n",
    "    test_normalized = pd.DataFrame(\n",
    "        scaler.transform(test_nicla_df), columns=train_nicla_df.columns\n",
    "    )\n",
    "    return train_normalized, val_normalized, test_normalized\n",
    "\n",
    "\n",
    "X_MIN = 0\n",
    "X_MAX = 1\n",
    "TRAIN_RAT = 0.6\n",
    "VAL_RAT = 0.2\n",
    "df_train, df_val, df_test = get_normalized(\n",
    "    nicla_dropped, X_MIN, X_MAX, TRAIN_RAT, VAL_RAT\n",
    ")"
   ]
  },
  {
   "attachments": {},
   "cell_type": "markdown",
   "metadata": {},
   "source": [
    "Now we analyze that how data correlate to decide the input window length."
   ]
  },
  {
   "cell_type": "code",
   "execution_count": 14,
   "metadata": {},
   "outputs": [
    {
     "name": "stdout",
     "output_type": "stream",
     "text": [
      "{'AccX_corr': [0.494675099562637, 755],\n",
      " 'AccY_corr': [0.9772278901518688, 755],\n",
      " 'AccZ_corr': [0.44800133282688587, 755],\n",
      " 'GyroX_corr': [0.9975431207556662, 755],\n",
      " 'GyroY_corr': [0.995150209857905, 755],\n",
      " 'GyroZ_corr': [0.9913403062869746, 751],\n",
      " 'MagX_corr': [0.9967670161200552, 755],\n",
      " 'MagY_corr': [0.9996415249638697, 755],\n",
      " 'MagZ_corr': [0.9989744654946575, 755]}\n",
      "CPU times: user 2min 48s, sys: 24.8 s, total: 3min 13s\n",
      "Wall time: 3min 13s\n"
     ]
    }
   ],
   "source": [
    "%%time\n",
    "\n",
    "# Find autocorrelation example.\n",
    "\n",
    "\n",
    "def df_autocorr(d_f, lag=1, axis=0):\n",
    "    \"\"\"\n",
    "    Compute full-sample column-wise autocorrelation for a DataFrame.\n",
    "    Returns:\n",
    "        dataframe: Correlated dataframe.\n",
    "    \"\"\"\n",
    "    return d_f.apply(lambda col: col.autocorr(lag), axis=axis)\n",
    "\n",
    "\n",
    "def df_rolling_autocorr(d_f, window, lag=1):\n",
    "    \"\"\"\n",
    "    Compute rolling column-wise autocorrelation for a DataFrame.\n",
    "    Returns:\n",
    "        dataframe: Correlated dataframe.\n",
    "    \"\"\"\n",
    "    return d_f.rolling(window=window).corr(d_f.shift(lag))\n",
    "\n",
    "\n",
    "# \"\"\"\"\"\"\n",
    "\n",
    "\n",
    "def df_autocorr_highest(d_f, window_min, window_max, lag_f):\n",
    "    \"\"\"\n",
    "    Returns a dataframe that contains highest mean correlation with respect to window length.\n",
    "    Args:\n",
    "        df (dataframe): Input dataframe.\n",
    "        window_min (int): Start index of the dataframe subjected to autocorrelation calculation.\n",
    "        window_max (int): End index of the dataframe subjected to autocorrelation calculation.\n",
    "        lag_f (int): Correlation lag.\n",
    "\n",
    "    Returns:\n",
    "        Dic: A dictionary with Pearson correlation coefficients and corresponding window length.\n",
    "    \"\"\"\n",
    "    df_corrs = pd.DataFrame()\n",
    "    df_corr_dict = {}\n",
    "    for i in range(len(d_f.columns)):\n",
    "        corr_init = 0\n",
    "        corr_index = 0\n",
    "        for j in range(window_min, window_max):\n",
    "            corr = (\n",
    "                df_rolling_autocorr(d_f.iloc[:, i], window=j, lag=lag_f).dropna().mean()\n",
    "            )\n",
    "            if corr > corr_init:\n",
    "                corr_init = corr\n",
    "                corr_index = j\n",
    "        corr_label = d_f.columns[i] + \"_corr\"\n",
    "        df_corrs[corr_label] = [corr_init, corr_index]\n",
    "        df_corr_dict[corr_label] = [corr_init, corr_index]\n",
    "    return df_corr_dict\n",
    "\n",
    "\n",
    "# We determine the window paratemers (600 and 1201) via grid search.\n",
    "df_corr_train = df_autocorr_highest(df_train, 600, 800, 1)\n",
    "\n",
    "pprint(df_corr_train)"
   ]
  },
  {
   "attachments": {},
   "cell_type": "markdown",
   "metadata": {},
   "source": [
    "As we see from above, data autocorrelate best when the input window length is 755.\n",
    "\n",
    "Now, we apply data windowing. We utilize the methods provided by [TensorFlow](https://www.tensorflow.org/tutorials/structured_data/time_series).\n",
    "\n",
    "The features of our data window:\n",
    "* Input width = 755\n",
    "* Offset = 1\n",
    "* Label width = 1"
   ]
  },
  {
   "cell_type": "code",
   "execution_count": 19,
   "metadata": {},
   "outputs": [
    {
     "name": "stdout",
     "output_type": "stream",
     "text": [
      "<class '__main__.WindowGenerator'>\n"
     ]
    }
   ],
   "source": [
    "MAX_EPOCHS = 100\n",
    "LABEL_WIDTH = 1\n",
    "MAX_POOL_KERNEL_SIZE = 3\n",
    "NUM_FILTERS = 32\n",
    "ACTIVATION = \"relu\"\n",
    "CONV_WIDTH = 755\n",
    "KERNEL_SIZE = 5\n",
    "\n",
    "\n",
    "class TimeHistory(tf.keras.callbacks.Callback):\n",
    "    \"\"\"Allows us to callback epoch time.\"\"\"\n",
    "    def on_train_begin(self, logs={}):\n",
    "        self.times = []\n",
    "\n",
    "    def on_epoch_begin(self, epoch, logs={}):\n",
    "        self.epoch_time_start = time.time()\n",
    "\n",
    "    def on_epoch_end(self, epoch, logs={}):\n",
    "        self.times.append(time.time() - self.epoch_time_start)\n",
    "\n",
    "\n",
    "time_callback = TimeHistory()\n",
    "\n",
    "\n",
    "def compile_and_fit(model, window, patience=10):\n",
    "    \"\"\"\n",
    "    Compiles and fits the model.\n",
    "    Args:\n",
    "        model (keras.engine.sequential.Sequential): Keras model.\n",
    "        window (__main__.WindowGenerator): Input window.\n",
    "        patience (int, optional): Stops training if model does not improve\n",
    "        after nth epoch. Defaults to 10.\n",
    "    \"\"\"\n",
    "    early_stopping = tf.keras.callbacks.EarlyStopping(\n",
    "        monitor=\"val_loss\", patience=patience, mode=\"min\"\n",
    "    )\n",
    "\n",
    "    model.compile(\n",
    "        loss=tf.keras.losses.MeanSquaredError(),\n",
    "        optimizer=tf.keras.optimizers.Adamax(),\n",
    "        metrics=[tf.keras.metrics.MeanAbsoluteError()],\n",
    "    )\n",
    "\n",
    "    his = model.fit(\n",
    "        window.train,\n",
    "        epochs=MAX_EPOCHS,\n",
    "        validation_data=window.val,\n",
    "        callbacks=[early_stopping, time_callback],\n",
    "    )\n",
    "    return his\n",
    "\n",
    "\n",
    "def make_dataset(self, data):\n",
    "    \"\"\"Check TensorFlow link for explanation.\"\"\"\n",
    "    data = np.array(data, dtype=np.float32)\n",
    "    d_s = tf.keras.utils.timeseries_dataset_from_array(\n",
    "        data=data,\n",
    "        targets=None,\n",
    "        sequence_length=self.total_window_size,\n",
    "        sequence_stride=1,\n",
    "        shuffle=False,\n",
    "        batch_size=256,\n",
    "    )\n",
    "\n",
    "    d_s = d_s.map(self.split_window)\n",
    "\n",
    "    return d_s\n",
    "\n",
    "\n",
    "def split_window(self, features):\n",
    "    \"\"\"Check TensorFlow link for explanation.\"\"\"\n",
    "    inputs = features[:, self.input_slice, :]\n",
    "    label_s = features[:, self.labels_slice, :]\n",
    "    if self.label_columns is not None:\n",
    "        label_s = tf.stack(\n",
    "            [label_s[:, :, self.column_indices[name]] for name in self.label_columns],\n",
    "            axis=-1,\n",
    "        )\n",
    "\n",
    "    # Slicing doesn't preserve static shape information, so set the shapes\n",
    "    # manually. This way the `tf.data.Datasets` are easier to inspect.\n",
    "    inputs.set_shape([None, self.input_width, None])\n",
    "    label_s.set_shape([None, self.label_width, None])\n",
    "\n",
    "    return inputs, label_s\n",
    "\n",
    "\n",
    "@property\n",
    "def train(self):\n",
    "    \"\"\"Check Tensorflow Link for explanation.\"\"\"\n",
    "    return self.make_dataset(self.train_df)\n",
    "\n",
    "\n",
    "@property\n",
    "def val(self):\n",
    "    \"\"\"Check Tensorflow Link for explanation.\"\"\"\n",
    "    return self.make_dataset(self.val_df)\n",
    "\n",
    "\n",
    "@property\n",
    "def test(self):\n",
    "    \"\"\"Check Tensorflow Link for explanation.\"\"\"\n",
    "    return self.make_dataset(self.test_df)\n",
    "\n",
    "\n",
    "class WindowGenerator:\n",
    "    \"\"\"Check Tensorflow Link for explanation.\"\"\"\n",
    "\n",
    "    def __init__(\n",
    "        self,\n",
    "        input_width,\n",
    "        label_width,\n",
    "        shift,\n",
    "        train_df=df_train,\n",
    "        val_df=df_val,\n",
    "        test_df=df_test,\n",
    "        label_columns=None,\n",
    "    ):\n",
    "        # Store the raw data.\n",
    "        self.train_df = train_df\n",
    "        self.val_df = val_df\n",
    "        self.test_df = test_df\n",
    "\n",
    "        # Work out the label column indices.\n",
    "        self.label_columns = label_columns\n",
    "        if label_columns is not None:\n",
    "            self.label_columns_indices = {\n",
    "                name: i for i, name in enumerate(label_columns)\n",
    "            }\n",
    "        self.column_indices = {name: i for i, name in enumerate(train_df.columns)}\n",
    "\n",
    "        # Work out the window parameters.\n",
    "        self.input_width = input_width\n",
    "        self.label_width = label_width\n",
    "        self.shift = shift\n",
    "\n",
    "        self.total_window_size = input_width + shift\n",
    "\n",
    "        self.input_slice = slice(0, input_width)\n",
    "        self.input_indices = np.arange(self.total_window_size)[self.input_slice]\n",
    "\n",
    "        self.label_start = self.total_window_size - self.label_width\n",
    "        self.labels_slice = slice(self.label_start, None)\n",
    "        self.label_indices = np.arange(self.total_window_size)[self.labels_slice]\n",
    "\n",
    "    def __repr__(self):\n",
    "        return \"\\n\".join(\n",
    "            [\n",
    "                f\"Total window size: {self.total_window_size}\",\n",
    "                f\"Input indices: {self.input_indices}\",\n",
    "                f\"Label indices: {self.label_indices}\",\n",
    "                f\"Label column name(s): {self.label_columns}\",\n",
    "            ]\n",
    "        )\n",
    "\n",
    "\n",
    "WindowGenerator.make_dataset = make_dataset\n",
    "WindowGenerator.train = train\n",
    "WindowGenerator.val = val\n",
    "WindowGenerator.test = test\n",
    "WindowGenerator.split_window = split_window\n",
    "\n",
    "conv_window = WindowGenerator(\n",
    "    input_width=CONV_WIDTH, label_width=LABEL_WIDTH, shift=1, label_columns=None\n",
    ")\n",
    "\n",
    "conv_model = tf.keras.Sequential(\n",
    "    [\n",
    "        tf.keras.layers.Conv1D(\n",
    "            filters=NUM_FILTERS, kernel_size=(KERNEL_SIZE,), activation=ACTIVATION\n",
    "        ),\n",
    "        tf.keras.layers.Conv1D(\n",
    "            filters=NUM_FILTERS, kernel_size=(KERNEL_SIZE,), activation=ACTIVATION\n",
    "        ),\n",
    "        tf.keras.layers.MaxPool1D(pool_size=MAX_POOL_KERNEL_SIZE),\n",
    "        tf.keras.layers.Conv1D(\n",
    "            filters=NUM_FILTERS, kernel_size=(KERNEL_SIZE,), activation=ACTIVATION\n",
    "        ),\n",
    "        tf.keras.layers.Conv1D(\n",
    "            filters=NUM_FILTERS, kernel_size=(KERNEL_SIZE,), activation=ACTIVATION\n",
    "        ),\n",
    "        tf.keras.layers.MaxPool1D(pool_size=MAX_POOL_KERNEL_SIZE),\n",
    "        tf.keras.layers.Flatten(),\n",
    "        # We have 9 features to predict.\n",
    "        tf.keras.layers.Dense(units=9),\n",
    "        # We add the time back.\n",
    "        tf.keras.layers.Reshape([1, -1]),\n",
    "    ]\n",
    ")\n",
    "\n",
    "print(type(conv_window))"
   ]
  },
  {
   "attachments": {},
   "cell_type": "markdown",
   "metadata": {},
   "source": [
    "Run the below cell only if you want to do the training assumed you ignored the above cell. To run uncomment the `history` line."
   ]
  },
  {
   "cell_type": "code",
   "execution_count": 20,
   "metadata": {},
   "outputs": [
    {
     "name": "stdout",
     "output_type": "stream",
     "text": [
      "Epoch 1/100\n",
      "4048/4048 [==============================] - 63s 16ms/step - loss: 0.0017 - mean_absolute_error: 0.0210 - val_loss: 0.0033 - val_mean_absolute_error: 0.0298\n",
      "Epoch 2/100\n",
      "4048/4048 [==============================] - 63s 16ms/step - loss: 8.4574e-04 - mean_absolute_error: 0.0163 - val_loss: 0.0030 - val_mean_absolute_error: 0.0286\n",
      "Epoch 3/100\n",
      "4048/4048 [==============================] - 63s 15ms/step - loss: 8.0890e-04 - mean_absolute_error: 0.0154 - val_loss: 0.0026 - val_mean_absolute_error: 0.0263\n",
      "Epoch 4/100\n",
      "4048/4048 [==============================] - 63s 16ms/step - loss: 7.8558e-04 - mean_absolute_error: 0.0148 - val_loss: 0.0024 - val_mean_absolute_error: 0.0258\n",
      "Epoch 5/100\n",
      "4048/4048 [==============================] - 63s 16ms/step - loss: 7.7013e-04 - mean_absolute_error: 0.0143 - val_loss: 0.0022 - val_mean_absolute_error: 0.0238\n",
      "Epoch 6/100\n",
      "4048/4048 [==============================] - 63s 15ms/step - loss: 7.5993e-04 - mean_absolute_error: 0.0141 - val_loss: 0.0021 - val_mean_absolute_error: 0.0230\n",
      "Epoch 7/100\n",
      "4048/4048 [==============================] - 63s 15ms/step - loss: 7.5282e-04 - mean_absolute_error: 0.0139 - val_loss: 0.0021 - val_mean_absolute_error: 0.0225\n",
      "Epoch 8/100\n",
      "4048/4048 [==============================] - 63s 15ms/step - loss: 7.4717e-04 - mean_absolute_error: 0.0137 - val_loss: 0.0020 - val_mean_absolute_error: 0.0221\n",
      "Epoch 9/100\n",
      "4048/4048 [==============================] - 63s 16ms/step - loss: 7.4170e-04 - mean_absolute_error: 0.0136 - val_loss: 0.0020 - val_mean_absolute_error: 0.0219\n",
      "Epoch 10/100\n",
      "4048/4048 [==============================] - 63s 15ms/step - loss: 7.3692e-04 - mean_absolute_error: 0.0135 - val_loss: 0.0020 - val_mean_absolute_error: 0.0217\n",
      "Epoch 11/100\n",
      "4048/4048 [==============================] - 62s 15ms/step - loss: 7.3245e-04 - mean_absolute_error: 0.0134 - val_loss: 0.0019 - val_mean_absolute_error: 0.0215\n",
      "Epoch 12/100\n",
      "4048/4048 [==============================] - 63s 15ms/step - loss: 7.2875e-04 - mean_absolute_error: 0.0133 - val_loss: 0.0019 - val_mean_absolute_error: 0.0214\n",
      "Epoch 13/100\n",
      "4048/4048 [==============================] - 62s 15ms/step - loss: 7.2586e-04 - mean_absolute_error: 0.0133 - val_loss: 0.0019 - val_mean_absolute_error: 0.0213\n",
      "Epoch 14/100\n",
      "4048/4048 [==============================] - 63s 15ms/step - loss: 7.2373e-04 - mean_absolute_error: 0.0132 - val_loss: 0.0018 - val_mean_absolute_error: 0.0211\n",
      "Epoch 15/100\n",
      "4048/4048 [==============================] - 63s 15ms/step - loss: 7.2175e-04 - mean_absolute_error: 0.0132 - val_loss: 0.0018 - val_mean_absolute_error: 0.0210\n",
      "Epoch 16/100\n",
      "4048/4048 [==============================] - 62s 15ms/step - loss: 7.2001e-04 - mean_absolute_error: 0.0131 - val_loss: 0.0018 - val_mean_absolute_error: 0.0209\n",
      "Epoch 17/100\n",
      "4048/4048 [==============================] - 62s 15ms/step - loss: 7.1826e-04 - mean_absolute_error: 0.0131 - val_loss: 0.0018 - val_mean_absolute_error: 0.0207\n",
      "Epoch 18/100\n",
      "4048/4048 [==============================] - 63s 16ms/step - loss: 7.1648e-04 - mean_absolute_error: 0.0131 - val_loss: 0.0017 - val_mean_absolute_error: 0.0206\n",
      "Epoch 19/100\n",
      "4048/4048 [==============================] - 63s 16ms/step - loss: 7.1437e-04 - mean_absolute_error: 0.0130 - val_loss: 0.0017 - val_mean_absolute_error: 0.0205\n",
      "Epoch 20/100\n",
      "4048/4048 [==============================] - 63s 16ms/step - loss: 7.1269e-04 - mean_absolute_error: 0.0130 - val_loss: 0.0017 - val_mean_absolute_error: 0.0203\n",
      "Epoch 21/100\n",
      "4048/4048 [==============================] - 63s 16ms/step - loss: 7.1120e-04 - mean_absolute_error: 0.0130 - val_loss: 0.0017 - val_mean_absolute_error: 0.0202\n",
      "Epoch 22/100\n",
      "4048/4048 [==============================] - 63s 15ms/step - loss: 7.1005e-04 - mean_absolute_error: 0.0129 - val_loss: 0.0017 - val_mean_absolute_error: 0.0202\n",
      "Epoch 23/100\n",
      "4048/4048 [==============================] - 63s 16ms/step - loss: 7.0909e-04 - mean_absolute_error: 0.0129 - val_loss: 0.0016 - val_mean_absolute_error: 0.0200\n",
      "Epoch 24/100\n",
      "4048/4048 [==============================] - 63s 15ms/step - loss: 7.0804e-04 - mean_absolute_error: 0.0129 - val_loss: 0.0016 - val_mean_absolute_error: 0.0198\n",
      "Epoch 25/100\n",
      "4048/4048 [==============================] - 63s 16ms/step - loss: 7.0716e-04 - mean_absolute_error: 0.0129 - val_loss: 0.0016 - val_mean_absolute_error: 0.0197\n",
      "Epoch 26/100\n",
      "4048/4048 [==============================] - 63s 16ms/step - loss: 7.0637e-04 - mean_absolute_error: 0.0129 - val_loss: 0.0016 - val_mean_absolute_error: 0.0196\n",
      "Epoch 27/100\n",
      "4048/4048 [==============================] - 63s 16ms/step - loss: 7.0568e-04 - mean_absolute_error: 0.0129 - val_loss: 0.0016 - val_mean_absolute_error: 0.0195\n",
      "Epoch 28/100\n",
      "4048/4048 [==============================] - 63s 15ms/step - loss: 7.0488e-04 - mean_absolute_error: 0.0128 - val_loss: 0.0016 - val_mean_absolute_error: 0.0195\n",
      "Epoch 29/100\n",
      "4048/4048 [==============================] - 63s 15ms/step - loss: 7.0427e-04 - mean_absolute_error: 0.0128 - val_loss: 0.0016 - val_mean_absolute_error: 0.0194\n",
      "Epoch 30/100\n",
      "4048/4048 [==============================] - 58s 14ms/step - loss: 7.0368e-04 - mean_absolute_error: 0.0128 - val_loss: 0.0015 - val_mean_absolute_error: 0.0193\n",
      "Epoch 31/100\n",
      "4048/4048 [==============================] - 62s 15ms/step - loss: 7.0315e-04 - mean_absolute_error: 0.0128 - val_loss: 0.0015 - val_mean_absolute_error: 0.0192\n",
      "Epoch 32/100\n",
      "4048/4048 [==============================] - 63s 16ms/step - loss: 7.0257e-04 - mean_absolute_error: 0.0128 - val_loss: 0.0015 - val_mean_absolute_error: 0.0192\n",
      "Epoch 33/100\n",
      "4048/4048 [==============================] - 63s 16ms/step - loss: 7.0178e-04 - mean_absolute_error: 0.0128 - val_loss: 0.0015 - val_mean_absolute_error: 0.0192\n",
      "Epoch 34/100\n",
      "4048/4048 [==============================] - 63s 16ms/step - loss: 7.0092e-04 - mean_absolute_error: 0.0128 - val_loss: 0.0015 - val_mean_absolute_error: 0.0191\n",
      "Epoch 35/100\n",
      "4048/4048 [==============================] - 63s 15ms/step - loss: 7.0023e-04 - mean_absolute_error: 0.0128 - val_loss: 0.0015 - val_mean_absolute_error: 0.0190\n",
      "Epoch 36/100\n",
      "4048/4048 [==============================] - 62s 15ms/step - loss: 6.9937e-04 - mean_absolute_error: 0.0128 - val_loss: 0.0015 - val_mean_absolute_error: 0.0190\n",
      "Epoch 37/100\n",
      "4048/4048 [==============================] - 62s 15ms/step - loss: 6.9859e-04 - mean_absolute_error: 0.0128 - val_loss: 0.0015 - val_mean_absolute_error: 0.0190\n",
      "Epoch 38/100\n",
      "4048/4048 [==============================] - 63s 15ms/step - loss: 6.9772e-04 - mean_absolute_error: 0.0128 - val_loss: 0.0015 - val_mean_absolute_error: 0.0189\n",
      "Epoch 39/100\n",
      "4048/4048 [==============================] - 60s 15ms/step - loss: 6.9696e-04 - mean_absolute_error: 0.0128 - val_loss: 0.0015 - val_mean_absolute_error: 0.0188\n",
      "Epoch 40/100\n",
      "4048/4048 [==============================] - 60s 15ms/step - loss: 6.9616e-04 - mean_absolute_error: 0.0127 - val_loss: 0.0015 - val_mean_absolute_error: 0.0188\n",
      "Epoch 41/100\n",
      "4048/4048 [==============================] - 63s 15ms/step - loss: 6.9548e-04 - mean_absolute_error: 0.0127 - val_loss: 0.0015 - val_mean_absolute_error: 0.0188\n",
      "Epoch 42/100\n",
      "4048/4048 [==============================] - 61s 15ms/step - loss: 6.9466e-04 - mean_absolute_error: 0.0127 - val_loss: 0.0015 - val_mean_absolute_error: 0.0188\n",
      "Epoch 43/100\n",
      "4048/4048 [==============================] - 59s 15ms/step - loss: 6.9390e-04 - mean_absolute_error: 0.0127 - val_loss: 0.0015 - val_mean_absolute_error: 0.0188\n",
      "Epoch 44/100\n",
      "4048/4048 [==============================] - 63s 15ms/step - loss: 6.9303e-04 - mean_absolute_error: 0.0127 - val_loss: 0.0014 - val_mean_absolute_error: 0.0187\n",
      "Epoch 45/100\n",
      "4048/4048 [==============================] - 59s 15ms/step - loss: 6.9237e-04 - mean_absolute_error: 0.0127 - val_loss: 0.0014 - val_mean_absolute_error: 0.0187\n",
      "Epoch 46/100\n",
      "4048/4048 [==============================] - 62s 15ms/step - loss: 6.9172e-04 - mean_absolute_error: 0.0127 - val_loss: 0.0014 - val_mean_absolute_error: 0.0187\n",
      "Epoch 47/100\n",
      "4048/4048 [==============================] - 59s 15ms/step - loss: 6.9083e-04 - mean_absolute_error: 0.0127 - val_loss: 0.0014 - val_mean_absolute_error: 0.0187\n",
      "Epoch 48/100\n",
      "4048/4048 [==============================] - 60s 15ms/step - loss: 6.9004e-04 - mean_absolute_error: 0.0127 - val_loss: 0.0014 - val_mean_absolute_error: 0.0187\n",
      "Epoch 49/100\n",
      "4048/4048 [==============================] - 63s 15ms/step - loss: 6.8941e-04 - mean_absolute_error: 0.0127 - val_loss: 0.0014 - val_mean_absolute_error: 0.0187\n",
      "Epoch 50/100\n",
      "4048/4048 [==============================] - 63s 15ms/step - loss: 6.8876e-04 - mean_absolute_error: 0.0126 - val_loss: 0.0014 - val_mean_absolute_error: 0.0187\n",
      "Epoch 51/100\n",
      "4048/4048 [==============================] - 63s 16ms/step - loss: 6.8807e-04 - mean_absolute_error: 0.0126 - val_loss: 0.0014 - val_mean_absolute_error: 0.0186\n",
      "Epoch 52/100\n",
      "4048/4048 [==============================] - 63s 16ms/step - loss: 6.8741e-04 - mean_absolute_error: 0.0126 - val_loss: 0.0014 - val_mean_absolute_error: 0.0186\n",
      "Epoch 53/100\n",
      "4048/4048 [==============================] - 63s 16ms/step - loss: 6.8672e-04 - mean_absolute_error: 0.0126 - val_loss: 0.0014 - val_mean_absolute_error: 0.0186\n",
      "Epoch 54/100\n",
      "4048/4048 [==============================] - 63s 16ms/step - loss: 6.8608e-04 - mean_absolute_error: 0.0126 - val_loss: 0.0014 - val_mean_absolute_error: 0.0186\n",
      "Epoch 55/100\n",
      "4048/4048 [==============================] - 63s 16ms/step - loss: 6.8540e-04 - mean_absolute_error: 0.0126 - val_loss: 0.0014 - val_mean_absolute_error: 0.0186\n",
      "Epoch 56/100\n",
      "4048/4048 [==============================] - 63s 16ms/step - loss: 6.8482e-04 - mean_absolute_error: 0.0126 - val_loss: 0.0014 - val_mean_absolute_error: 0.0186\n",
      "Epoch 57/100\n",
      "4048/4048 [==============================] - 63s 16ms/step - loss: 6.8424e-04 - mean_absolute_error: 0.0126 - val_loss: 0.0014 - val_mean_absolute_error: 0.0186\n",
      "Epoch 58/100\n",
      "4048/4048 [==============================] - 63s 16ms/step - loss: 6.8372e-04 - mean_absolute_error: 0.0126 - val_loss: 0.0014 - val_mean_absolute_error: 0.0186\n",
      "Epoch 59/100\n",
      "4048/4048 [==============================] - 63s 16ms/step - loss: 6.8331e-04 - mean_absolute_error: 0.0126 - val_loss: 0.0014 - val_mean_absolute_error: 0.0186\n",
      "Epoch 60/100\n",
      "4048/4048 [==============================] - 63s 16ms/step - loss: 6.8265e-04 - mean_absolute_error: 0.0125 - val_loss: 0.0014 - val_mean_absolute_error: 0.0185\n",
      "Epoch 61/100\n",
      "4048/4048 [==============================] - 63s 15ms/step - loss: 6.8200e-04 - mean_absolute_error: 0.0125 - val_loss: 0.0014 - val_mean_absolute_error: 0.0185\n",
      "Epoch 62/100\n",
      "4048/4048 [==============================] - 63s 15ms/step - loss: 6.8152e-04 - mean_absolute_error: 0.0125 - val_loss: 0.0014 - val_mean_absolute_error: 0.0186\n",
      "Epoch 63/100\n",
      "4048/4048 [==============================] - 63s 16ms/step - loss: 6.8107e-04 - mean_absolute_error: 0.0125 - val_loss: 0.0014 - val_mean_absolute_error: 0.0184\n",
      "Epoch 64/100\n",
      "4048/4048 [==============================] - 63s 15ms/step - loss: 6.8065e-04 - mean_absolute_error: 0.0125 - val_loss: 0.0014 - val_mean_absolute_error: 0.0184\n",
      "Epoch 65/100\n",
      "4048/4048 [==============================] - 63s 16ms/step - loss: 6.8007e-04 - mean_absolute_error: 0.0125 - val_loss: 0.0014 - val_mean_absolute_error: 0.0184\n",
      "Epoch 66/100\n",
      "4048/4048 [==============================] - 62s 15ms/step - loss: 6.7951e-04 - mean_absolute_error: 0.0125 - val_loss: 0.0014 - val_mean_absolute_error: 0.0184\n",
      "Epoch 67/100\n",
      "4048/4048 [==============================] - 63s 15ms/step - loss: 6.7918e-04 - mean_absolute_error: 0.0125 - val_loss: 0.0014 - val_mean_absolute_error: 0.0183\n",
      "Epoch 68/100\n",
      "4048/4048 [==============================] - 62s 15ms/step - loss: 6.7854e-04 - mean_absolute_error: 0.0125 - val_loss: 0.0014 - val_mean_absolute_error: 0.0183\n",
      "Epoch 69/100\n",
      "4048/4048 [==============================] - 62s 15ms/step - loss: 6.7816e-04 - mean_absolute_error: 0.0125 - val_loss: 0.0014 - val_mean_absolute_error: 0.0183\n",
      "Epoch 70/100\n",
      "4048/4048 [==============================] - 62s 15ms/step - loss: 6.7756e-04 - mean_absolute_error: 0.0125 - val_loss: 0.0014 - val_mean_absolute_error: 0.0183\n",
      "Epoch 71/100\n",
      "4048/4048 [==============================] - 63s 15ms/step - loss: 6.7696e-04 - mean_absolute_error: 0.0125 - val_loss: 0.0014 - val_mean_absolute_error: 0.0182\n",
      "Epoch 72/100\n",
      "4048/4048 [==============================] - 62s 15ms/step - loss: 6.7651e-04 - mean_absolute_error: 0.0125 - val_loss: 0.0014 - val_mean_absolute_error: 0.0181\n",
      "Epoch 73/100\n",
      "4048/4048 [==============================] - 62s 15ms/step - loss: 6.7600e-04 - mean_absolute_error: 0.0125 - val_loss: 0.0014 - val_mean_absolute_error: 0.0182\n",
      "Epoch 74/100\n",
      "4048/4048 [==============================] - 62s 15ms/step - loss: 6.7561e-04 - mean_absolute_error: 0.0125 - val_loss: 0.0014 - val_mean_absolute_error: 0.0183\n",
      "Epoch 75/100\n",
      "4048/4048 [==============================] - 63s 15ms/step - loss: 6.7497e-04 - mean_absolute_error: 0.0125 - val_loss: 0.0014 - val_mean_absolute_error: 0.0182\n",
      "Epoch 76/100\n",
      "4048/4048 [==============================] - 62s 15ms/step - loss: 6.7441e-04 - mean_absolute_error: 0.0124 - val_loss: 0.0014 - val_mean_absolute_error: 0.0182\n",
      "Epoch 77/100\n",
      "4048/4048 [==============================] - 62s 15ms/step - loss: 6.7415e-04 - mean_absolute_error: 0.0124 - val_loss: 0.0014 - val_mean_absolute_error: 0.0181\n",
      "Epoch 78/100\n",
      "4048/4048 [==============================] - 63s 15ms/step - loss: 6.7383e-04 - mean_absolute_error: 0.0124 - val_loss: 0.0014 - val_mean_absolute_error: 0.0182\n",
      "Epoch 79/100\n",
      "4048/4048 [==============================] - 62s 15ms/step - loss: 6.7337e-04 - mean_absolute_error: 0.0124 - val_loss: 0.0014 - val_mean_absolute_error: 0.0182\n",
      "Epoch 80/100\n",
      "4048/4048 [==============================] - 63s 15ms/step - loss: 6.7297e-04 - mean_absolute_error: 0.0124 - val_loss: 0.0014 - val_mean_absolute_error: 0.0181\n",
      "Epoch 81/100\n",
      "4048/4048 [==============================] - 63s 15ms/step - loss: 6.7261e-04 - mean_absolute_error: 0.0124 - val_loss: 0.0014 - val_mean_absolute_error: 0.0181\n",
      "Epoch 82/100\n",
      "4048/4048 [==============================] - 63s 15ms/step - loss: 6.7221e-04 - mean_absolute_error: 0.0124 - val_loss: 0.0014 - val_mean_absolute_error: 0.0181\n",
      "Epoch 83/100\n",
      "4048/4048 [==============================] - 63s 15ms/step - loss: 6.7177e-04 - mean_absolute_error: 0.0124 - val_loss: 0.0014 - val_mean_absolute_error: 0.0181\n",
      "Epoch 84/100\n",
      "4048/4048 [==============================] - 62s 15ms/step - loss: 6.7155e-04 - mean_absolute_error: 0.0124 - val_loss: 0.0014 - val_mean_absolute_error: 0.0181\n",
      "Epoch 85/100\n",
      "4048/4048 [==============================] - 63s 15ms/step - loss: 6.7132e-04 - mean_absolute_error: 0.0124 - val_loss: 0.0014 - val_mean_absolute_error: 0.0181\n",
      "Epoch 86/100\n",
      "4048/4048 [==============================] - 63s 15ms/step - loss: 6.7093e-04 - mean_absolute_error: 0.0124 - val_loss: 0.0014 - val_mean_absolute_error: 0.0181\n",
      "Epoch 87/100\n",
      "4048/4048 [==============================] - 63s 16ms/step - loss: 6.7076e-04 - mean_absolute_error: 0.0124 - val_loss: 0.0014 - val_mean_absolute_error: 0.0181\n",
      "Epoch 88/100\n",
      "4048/4048 [==============================] - 63s 16ms/step - loss: 6.7031e-04 - mean_absolute_error: 0.0124 - val_loss: 0.0014 - val_mean_absolute_error: 0.0181\n",
      "Epoch 89/100\n",
      "4048/4048 [==============================] - 63s 16ms/step - loss: 6.7026e-04 - mean_absolute_error: 0.0124 - val_loss: 0.0014 - val_mean_absolute_error: 0.0182\n",
      "Epoch 90/100\n",
      "4048/4048 [==============================] - 63s 16ms/step - loss: 6.6991e-04 - mean_absolute_error: 0.0124 - val_loss: 0.0014 - val_mean_absolute_error: 0.0181\n",
      "Epoch 91/100\n",
      "4048/4048 [==============================] - 63s 15ms/step - loss: 6.6969e-04 - mean_absolute_error: 0.0124 - val_loss: 0.0014 - val_mean_absolute_error: 0.0181\n",
      "Epoch 92/100\n",
      "4048/4048 [==============================] - 63s 16ms/step - loss: 6.6927e-04 - mean_absolute_error: 0.0124 - val_loss: 0.0014 - val_mean_absolute_error: 0.0180\n",
      "Epoch 93/100\n",
      "4048/4048 [==============================] - 63s 16ms/step - loss: 6.6901e-04 - mean_absolute_error: 0.0124 - val_loss: 0.0014 - val_mean_absolute_error: 0.0181\n",
      "Epoch 94/100\n",
      "4048/4048 [==============================] - 63s 15ms/step - loss: 6.6900e-04 - mean_absolute_error: 0.0124 - val_loss: 0.0014 - val_mean_absolute_error: 0.0183\n",
      "Epoch 95/100\n",
      "4048/4048 [==============================] - 63s 16ms/step - loss: 6.6863e-04 - mean_absolute_error: 0.0124 - val_loss: 0.0014 - val_mean_absolute_error: 0.0180\n",
      "Epoch 96/100\n",
      "4048/4048 [==============================] - 63s 16ms/step - loss: 6.6829e-04 - mean_absolute_error: 0.0123 - val_loss: 0.0014 - val_mean_absolute_error: 0.0180\n",
      "Epoch 97/100\n",
      "4048/4048 [==============================] - 63s 16ms/step - loss: 6.6806e-04 - mean_absolute_error: 0.0123 - val_loss: 0.0014 - val_mean_absolute_error: 0.0182\n",
      "Epoch 98/100\n",
      "4048/4048 [==============================] - 63s 16ms/step - loss: 6.6795e-04 - mean_absolute_error: 0.0123 - val_loss: 0.0014 - val_mean_absolute_error: 0.0181\n",
      "Epoch 99/100\n",
      "4048/4048 [==============================] - 63s 16ms/step - loss: 6.6768e-04 - mean_absolute_error: 0.0123 - val_loss: 0.0014 - val_mean_absolute_error: 0.0182\n",
      "Epoch 100/100\n",
      "4048/4048 [==============================] - 63s 16ms/step - loss: 6.6752e-04 - mean_absolute_error: 0.0123 - val_loss: 0.0014 - val_mean_absolute_error: 0.0181\n",
      "1348/1348 [==============================] - 13s 9ms/step - loss: 0.0014 - mean_absolute_error: 0.0181\n",
      "1348/1348 [==============================] - 12s 9ms/step - loss: 0.0025 - mean_absolute_error: 0.0229\n"
     ]
    },
    {
     "name": "stderr",
     "output_type": "stream",
     "text": [
      "WARNING:absl:Found untraced functions such as _jit_compiled_convolution_op, _jit_compiled_convolution_op, _jit_compiled_convolution_op, _jit_compiled_convolution_op while saving (showing 4 of 4). These functions will not be directly callable after loading.\n"
     ]
    },
    {
     "name": "stdout",
     "output_type": "stream",
     "text": [
      "INFO:tensorflow:Assets written to: conv_model/assets\n"
     ]
    },
    {
     "name": "stderr",
     "output_type": "stream",
     "text": [
      "INFO:tensorflow:Assets written to: conv_model/assets\n"
     ]
    },
    {
     "name": "stdout",
     "output_type": "stream",
     "text": [
      "CPU times: user 12h 35min 3s, sys: 3h 6min 17s, total: 15h 41min 20s\n",
      "Wall time: 1h 44min 35s\n"
     ]
    }
   ],
   "source": [
    "%%time\n",
    "val_performance = {}\n",
    "performance = {}\n",
    "history = compile_and_fit(conv_model, conv_window)\n",
    "val_performance[\"Conv\"] = conv_model.evaluate(\n",
    "    conv_window.val, verbose=1, return_dict=False\n",
    ")\n",
    "performance[\"Conv\"] = conv_model.evaluate(\n",
    "    conv_window.test, verbose=1, return_dict=False\n",
    ")\n",
    "loss = history.history[\"loss\"]\n",
    "val_loss = history.history[\"val_loss\"]\n",
    "\n",
    "conv_model.save(\"conv_model\")"
   ]
  },
  {
   "attachments": {},
   "cell_type": "markdown",
   "metadata": {},
   "source": [
    "We save the loss values for later use. Uncomment only if you do the training."
   ]
  },
  {
   "cell_type": "code",
   "execution_count": 34,
   "metadata": {},
   "outputs": [],
   "source": [
    "# Save loss values to a file.\n",
    "with open('loss.txt', 'wb') as fp:\n",
    "    pickle.dump(loss, fp)\n",
    "with open('val_loss.txt', 'wb') as fp:\n",
    "    pickle.dump(val_loss, fp)"
   ]
  },
  {
   "attachments": {},
   "cell_type": "markdown",
   "metadata": {},
   "source": [
    "Load the saved loss values. Uncomment only if you do not do the training."
   ]
  },
  {
   "cell_type": "code",
   "execution_count": 36,
   "metadata": {},
   "outputs": [],
   "source": [
    "# Load the pre-saved loss values.\n",
    "# with open ('loss.txt', 'rb') as fp:\n",
    "#     loss = pickle.load(fp)\n",
    "# with open ('val_loss.txt', 'rb') as fp2:\n",
    "#     val_loss = pickle.load(fp2)"
   ]
  },
  {
   "cell_type": "code",
   "execution_count": 78,
   "metadata": {},
   "outputs": [
    {
     "data": {
      "image/png": "[encoded data removed]",
      "text/plain": [
       "<Figure size 432x288 with 1 Axes>"
      ]
     },
     "metadata": {},
     "output_type": "display_data"
    }
   ],
   "source": [
    "plt.plot(loss, label=\"Training Loss\")\n",
    "plt.plot(val_loss, label=\"Validation Loss\")\n",
    "legend_properties = {'weight':'bold'}\n",
    "plt.legend(loc=\"upper right\", prop=legend_properties)\n",
    "plt.savefig('figures/lossGraph.pdf')"
   ]
  },
  {
   "attachments": {},
   "cell_type": "markdown",
   "metadata": {},
   "source": [
    "If you do not do the training you can load the model we provide, via the below example cell, and then predict. Uncomment to do that."
   ]
  },
  {
   "cell_type": "code",
   "execution_count": null,
   "metadata": {},
   "outputs": [],
   "source": [
    "# conv_model = tf.keras.models.load_model(\"conv_model\")\n",
    "# conv_model.summary()"
   ]
  },
  {
   "attachments": {},
   "cell_type": "markdown",
   "metadata": {},
   "source": [
    "## The Baseline"
   ]
  },
  {
   "cell_type": "code",
   "execution_count": 73,
   "metadata": {},
   "outputs": [
    {
     "name": "stdout",
     "output_type": "stream",
     "text": [
      "The MAE of train (array([0.04276141, 0.03086297, 0.04765034, 0.00550876, 0.00683059,\n",
      "       0.00823718, 0.01227732, 0.00446184, 0.00781189]), 0.018489143100713833)\n",
      "The MAE of validation (array([0.04692985, 0.05295689, 0.05873922, 0.03945174, 0.03093915,\n",
      "       0.03330484, 0.03167815, 0.02263045, 0.03070723]), 0.03859305650667221)\n",
      "The MAE of test (array([0.04950482, 0.07017163, 0.05402572, 0.03705385, 0.02830081,\n",
      "       0.03151123, 0.04545084, 0.04528223, 0.04831509]), 0.04551291208360275)\n"
     ]
    }
   ],
   "source": [
    "PERIOD = 755\n",
    "\n",
    "def mae(data, period):\n",
    "    \"\"\"\n",
    "    Calculates mean absolute error (MAE) overall dataset.\n",
    "    Args:\n",
    "        dataset (numpy.Array): An array that contains parameter to be used when calculating MAE.\n",
    "        period (integer): Number of data points in one periodic window.\n",
    "    Returns:\n",
    "        MAE per feature, MAE overall.\n",
    "    \"\"\"\n",
    "    number_of_windows = int(len(data) / period)\n",
    "    num_rows, num_cols = data.shape\n",
    "    sum_mae = np.zeros(num_cols)\n",
    "    for i in range(number_of_windows - 1):\n",
    "        diff_window = data[period*i:period*(i+1)] - data[period*(i+1):period*(i+2)]\n",
    "        diff_window_abs = np.absolute(diff_window)\n",
    "        sum_diff = diff_window_abs.sum(axis=0)\n",
    "        mae_window = sum_diff / period\n",
    "        sum_mae = sum_mae + mae_window\n",
    "    \n",
    "    final_mae_per_feature = sum_mae / (number_of_windows - 1)\n",
    "    final_mae_overall = np.mean(final_mae_per_feature)\n",
    "    return final_mae_per_feature, final_mae_overall\n",
    "\n",
    "print(f\"The MAE of train {mae(df_train.to_numpy(), PERIOD)}\")\n",
    "print(f\"The MAE of validation {mae(df_val.to_numpy(), PERIOD)}\")\n",
    "print(f\"The MAE of test {mae(df_test, PERIOD)}\")"
   ]
  },
  {
   "attachments": {},
   "cell_type": "markdown",
   "metadata": {},
   "source": [
    "## The Anomaly Detection"
   ]
  },
  {
   "cell_type": "code",
   "execution_count": 59,
   "metadata": {},
   "outputs": [],
   "source": [
    "%%time\n",
    "# Predict the test data.\n",
    "predictions_list = []\n",
    "with io.capture_output() as captured:\n",
    "    for sample_inputs, sample_labels in conv_window.test.take(-1):\n",
    "        preds = conv_model.predict(sample_inputs).tolist()\n",
    "        for i in range(len(preds)):\n",
    "            # predictions = scaler.inverse_transform(preds[i])\n",
    "            predictions = preds[i]\n",
    "            # predictions_list.append(predictions[0].tolist())\n",
    "            predictions_list.append(predictions[0])"
   ]
  },
  {
   "attachments": {},
   "cell_type": "markdown",
   "metadata": {},
   "source": [
    "We cannot predict the first 755 one due to lack of previous data."
   ]
  },
  {
   "cell_type": "code",
   "execution_count": 60,
   "metadata": {},
   "outputs": [
    {
     "name": "stdout",
     "output_type": "stream",
     "text": [
      "Length of the test data: 345602\n",
      "Length of the predicted data: 344847\n"
     ]
    }
   ],
   "source": [
    "print(f\"Length of the test data: {len(df_test)}\")\n",
    "print(f\"Length of the predicted data: {len(predictions_list)}\")"
   ]
  },
  {
   "cell_type": "code",
   "execution_count": 62,
   "metadata": {},
   "outputs": [
    {
     "name": "stdout",
     "output_type": "stream",
     "text": [
      "Lengths match.\n",
      "Lengths match.\n"
     ]
    }
   ],
   "source": [
    "# Convert assets to numpy arrays.\n",
    "if type(df_test) != np.ndarray:\n",
    "    df_test = df_test.to_numpy()[755:]\n",
    "if type(predictions_list) != np.ndarray:\n",
    "    predictions_list = np.array(predictions_list)\n",
    "\n",
    "# Verify the lengths.\n",
    "if len(df_test) == len(predictions_list):\n",
    "    print(\"Lengths match.\")\n",
    "else:\n",
    "    raise ValueError(\"Check lengths.\")\n",
    "\n",
    "# Calculate residuals.\n",
    "# 100 for easy examination.\n",
    "residuals = np.sum(abs(np.subtract(df_test, predictions_list)), axis=1)\n",
    "# Convert points into windows.\n",
    "residuals = pd.DataFrame(residuals).rolling(755).sum().dropna().reset_index(drop=True)\n",
    "# Get labels.\n",
    "labels = right_arm[\"Anomaly State\"][-344847:].reset_index(drop=True).to_numpy()\n",
    "# Convert single labels into windows.\n",
    "labels = pd.DataFrame(labels).rolling(755).sum().dropna().reset_index(drop=True)\n",
    "\n",
    "# If the sum is over 377.5 (half of the window) we accept as an anomaly.\n",
    "labels[:] = np.where(labels > 377.5, 1, np.where(labels < 377.5, 0, labels))\n",
    "\n",
    "# Fix the mismatching via shifting.\n",
    "labels = np.roll(labels, -11059)\n",
    "\n",
    "# Verify the lengths.\n",
    "if len(labels) == len(residuals):\n",
    "    print(\"Lengths match.\")\n",
    "else:\n",
    "    raise ValueError(\"Check lengths.\")"
   ]
  },
  {
   "attachments": {},
   "cell_type": "markdown",
   "metadata": {},
   "source": [
    "Now we get the labels from the right arm data."
   ]
  },
  {
   "cell_type": "code",
   "execution_count": 63,
   "metadata": {},
   "outputs": [],
   "source": [
    "# Save the files for further examination if needed.\n",
    "np.savetxt(\"residuals.txt\", residuals)\n",
    "np.savetxt(\"labels.txt\", labels)"
   ]
  },
  {
   "cell_type": "code",
   "execution_count": 64,
   "metadata": {},
   "outputs": [
    {
     "name": "stdout",
     "output_type": "stream",
     "text": [
      "Residual mean: 0    156.055272\n",
      "dtype: float64\n",
      "Residual median: 0    96.960498\n",
      "dtype: float64\n"
     ]
    }
   ],
   "source": [
    "# Find the mean of absolute errors.\n",
    "threshold_mean = residuals.mean()\n",
    "print(f\"Residual mean: {threshold_mean}\")\n",
    "\n",
    "# Find the median of absolute errors.\n",
    "threshold_median = residuals.median()\n",
    "print(f\"Residual median: {threshold_median}\")"
   ]
  },
  {
   "cell_type": "code",
   "execution_count": 74,
   "metadata": {},
   "outputs": [
    {
     "data": {
      "image/png": "[encoded data removed]",
      "text/plain": [
       "<Figure size 432x288 with 2 Axes>"
      ]
     },
     "metadata": {},
     "output_type": "display_data"
    },
    {
     "name": "stdout",
     "output_type": "stream",
     "text": [
      "{'Median': {'accuracy': 0.9744458620198609,\n",
      "            'f1': 0.9744737552580929,\n",
      "            'precision': 0.9734084199903725,\n",
      "            'recall': 0.9755414249677412}}\n"
     ]
    }
   ],
   "source": [
    "# Convert in a way to return accuracy etc.\n",
    "def gen_conf_matrix(anomalies, residual_s, threshold):\n",
    "    \"\"\"\n",
    "    Returns confusion matrix parameters.\n",
    "    Args:\n",
    "        anomalies (numpy.ndarray): Numpy array which contains anomalies.\n",
    "        residuals (numpy.ndarray): Numpy array which contains residuals.\n",
    "        threshold (float): Threshold value. Above threshold will be considered as anomaly.\n",
    "\n",
    "    Returns:\n",
    "        accuracy, f1, recall, precision: _description_\n",
    "    \"\"\"\n",
    "    res = np.where(residual_s <= threshold, 0, 1)\n",
    "    cfm = confusion_matrix(res, anomalies)\n",
    "    t_n, f_p, f_n, t_p = confusion_matrix(res, anomalies).ravel()\n",
    "    accuracy = (t_p + t_n) / (t_p + t_n + f_p + f_n)\n",
    "    f1 = (2 * t_p) / (2 * t_p + f_p + f_n)\n",
    "    recall = t_p / (t_p + f_n)\n",
    "    precision = t_p / (t_p + f_p)\n",
    "    group_names = [\"True Neg.\", \"False Pos.\", \"False Neg.\", \"True Pos.\"]\n",
    "    group_counts = [\"{0:0.0f}\".format(value) for value in cfm.flatten()]\n",
    "\n",
    "    group_percentages = [\n",
    "        \"{0:.2}\".format(value) for value in cfm.flatten() / np.sum(cfm)\n",
    "    ]\n",
    "\n",
    "    labelss = [\n",
    "        f\"{v1}\\n{v2}\\n{v3}\"\n",
    "        for v1, v2, v3 in zip(group_names, group_counts, group_percentages)\n",
    "    ]\n",
    "    labelss = np.asarray(labelss).reshape(2, 2)\n",
    "    sns.set(font_scale=1.5)\n",
    "    sns.heatmap(cfm, annot=labelss, fmt=\"\", cmap=\"Blues\")\n",
    "    plt.savefig(\"figures/cm.pdf\")\n",
    "    plt.show()\n",
    "    return accuracy, f1, recall, precision\n",
    "\n",
    "\n",
    "accuracy_med, f1_med, recall_med, precision_med = gen_conf_matrix(\n",
    "    labels, residuals, threshold_median\n",
    ")\n",
    "\n",
    "results = {\n",
    "    \"Median\": {\n",
    "        \"accuracy\": accuracy_med,\n",
    "        \"f1\": f1_med,\n",
    "        \"recall\": recall_med,\n",
    "        \"precision\": precision_med,\n",
    "    },\n",
    "}\n",
    "pprint(results)"
   ]
  },
  {
   "attachments": {},
   "cell_type": "markdown",
   "metadata": {},
   "source": [
    "Using medium as a threshold allows us to reach around 98% accuracy."
   ]
  }
 ],
 "metadata": {
  "kernelspec": {
   "display_name": "casper",
   "language": "python",
   "name": "python3"
  },
  "language_info": {
   "codemirror_mode": {
    "name": "ipython",
    "version": 3
   },
   "file_extension": ".py",
   "mimetype": "text/x-python",
   "name": "python",
   "nbconvert_exporter": "python",
   "pygments_lexer": "ipython3",
   "version": "3.9.12"
  },
  "orig_nbformat": 4,
  "vscode": {
   "interpreter": {
    "hash": "a500d1b4bb8e44bdb84038c77522f140a2fdd587b91f080d493a8adb7d5869ea"
   }
  }
 },
 "nbformat": 4,
 "nbformat_minor": 2
}
